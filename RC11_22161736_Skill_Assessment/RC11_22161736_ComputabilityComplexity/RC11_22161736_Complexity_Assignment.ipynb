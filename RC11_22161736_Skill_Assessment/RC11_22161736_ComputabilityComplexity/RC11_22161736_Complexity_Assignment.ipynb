{
 "cells": [
  {
   "cell_type": "markdown",
   "id": "8b3110c8-882d-4cf9-838a-58156578d4c6",
   "metadata": {},
   "source": [
    "# RC11_22161736\n",
    "\n",
    "# Computability & Complexity Report"
   ]
  },
  {
   "cell_type": "markdown",
   "id": "b4c0b0a9",
   "metadata": {},
   "source": [
    "# Exercise One\n",
    "\n",
    "## 1. Implement this algorithm in Python. \n",
    "\n",
    "Use the NumPy ndarray object for your matrices;"
   ]
  },
  {
   "cell_type": "code",
   "execution_count": 19,
   "id": "e33fca7e-059e-4ffc-9cb0-2216bb7f4a52",
   "metadata": {},
   "outputs": [],
   "source": [
    "import time\n",
    "import numpy as np\n",
    "\n",
    "\n",
    "def multiply_matrices(A, B):\n",
    "    dimension = A.shape[0]\n",
    "    Result = np.zeros((dimension, dimension), dtype=int)\n",
    "    for i in range(dimension):\n",
    "        for j in range(dimension):\n",
    "            Result[i, j] = sum(A[i, k] * B[k, j] for k in range(dimension))\n",
    "    return Result"
   ]
  },
  {
   "cell_type": "markdown",
   "id": "20345f1a-1d43-4734-9116-48bddc37237d",
   "metadata": {},
   "source": [
    "### Implementation and Comparison"
   ]
  },
  {
   "cell_type": "code",
   "execution_count": 20,
   "id": "5cdac697-b4a9-423e-bb47-9e75da29b4d0",
   "metadata": {},
   "outputs": [
    {
     "name": "stdout",
     "output_type": "stream",
     "text": [
      "Results from matmul with NumPy:\n",
      "2 x 2 Matrix: [[19 22]\n",
      " [43 50]]\n",
      "4 x 4 Matrix: [[142 125 134 120]\n",
      " [166 113 220 140]\n",
      " [158  73 163 144]\n",
      " [114 107 106  97]]\n",
      "5 x 5 Matrix: [[15 30 45 60 75]\n",
      " [15 30 45 60 75]\n",
      " [15 30 45 60 75]\n",
      " [15 30 45 60 75]\n",
      " [15 30 45 60 75]]\n",
      "time:  0.0\n",
      "Results obtained by a custom matrix multiplication function:\n",
      "2 x 2 Matrix: [[19 22]\n",
      " [43 50]]\n",
      "4 x 4 Matrix: [[142 125 134 120]\n",
      " [166 113 220 140]\n",
      " [158  73 163 144]\n",
      " [114 107 106  97]]\n",
      "5 x 5 Matrix: [[15 30 45 60 75]\n",
      " [15 30 45 60 75]\n",
      " [15 30 45 60 75]\n",
      " [15 30 45 60 75]\n",
      " [15 30 45 60 75]]\n",
      "time:  0.0009999275207519531\n",
      "Chained matrix multiplication:\n",
      "[[ 85 126]\n",
      " [193 286]]\n",
      "[[ 85 126]\n",
      " [193 286]]\n"
     ]
    }
   ],
   "source": [
    "Matrix_A = np.array([[1, 2], [3, 4]])\n",
    "Matrix_B = np.array([[5, 6], [7, 8]])\n",
    "Matrix_C = np.array([[6, 3, 10, 4], [10, 3, 6, 10], [6, 9, 2, 5], [4, 2, 9, 4]])\n",
    "Matrix_D = np.array([[i for i in range(1, 6)] for _ in range(5)])\n",
    "\n",
    "print(\"Results from matmul with NumPy:\")\n",
    "start = time.time()\n",
    "print('2 x 2 Matrix:', np.matmul(Matrix_A, Matrix_B))\n",
    "print('4 x 4 Matrix:', np.matmul(Matrix_C, Matrix_C))\n",
    "print('5 x 5 Matrix:', np.matmul(Matrix_D, Matrix_D))\n",
    "run_time = time.time() - start\n",
    "print('time: ', run_time)\n",
    "\n",
    "start = time.time()\n",
    "print(\"Results obtained by a custom matrix multiplication function:\")\n",
    "print('2 x 2 Matrix:', multiply_matrices(Matrix_A, Matrix_B))\n",
    "print('4 x 4 Matrix:', multiply_matrices(Matrix_C, Matrix_C))\n",
    "print('5 x 5 Matrix:', multiply_matrices(Matrix_D, Matrix_D))\n",
    "run_time = time.time() - start\n",
    "print('time: ', run_time)\n",
    "\n",
    "print('Chained matrix multiplication:')\n",
    "print(np.matmul(np.matmul(Matrix_A, Matrix_B), Matrix_A))\n",
    "print(multiply_matrices(multiply_matrices(Matrix_A, Matrix_B), Matrix_A))"
   ]
  },
  {
   "cell_type": "markdown",
   "id": "85519917",
   "metadata": {},
   "source": [
    "Comparison: custom matrix multiplication function is more efficient(fast)."
   ]
  },
  {
   "cell_type": "markdown",
   "id": "43c0789b-b179-4203-b3ce-5fe776c46185",
   "metadata": {},
   "source": [
    "## 2. Give the asymptotic time complexity of the above algorithm or your implementation (they should be the same). Justify and explain your answer"
   ]
  },
  {
   "cell_type": "markdown",
   "id": "9d424fbf",
   "metadata": {},
   "source": [
    "Answer: The time complexity of this algorithm is 𝑂(𝑛^3)\n",
    "\n",
    "Explanation: The algorithm uses 3 nested loops, each running from 1 to n, where n is the number of rows/columns of the matrices A and B. The outermost loop which indexed by i iterates n times, once for each row of the resultant matrix C. The middle loop indexed by j also iterates n times for each iteration of i,once for each column of matrix C. The innermost loop which indexed by k iterates n times for each combination of i and j. In this loop, the algorithm computes the product aik * bkj and adds it to the running total for cij. \n",
    "Since each of these loops runs n times independently, the total number of iterations of the innermost statements is n * n * n = n^3. Therefore, the time complexity of the algorithm is 𝑂(𝑛^3)."
   ]
  },
  {
   "cell_type": "markdown",
   "id": "2e0fe85a-8087-429b-a948-ac7cc58fdab2",
   "metadata": {},
   "source": [
    "# Exercise Two\n",
    "## 1. Describe and explain the algorithm. It should contain at least the following:\n",
    "    recursiveness: How is it recursive? What is (the criteria for) the base case? How does the recursion step reduce to the base case?\n",
    "\n",
    "    divide-and-conquer : How does this algorithm fit into the divide-and\u0002conquer approach? Explain each step of divide, conquer, and combine for this algorithm (as in slide 8 / pdf page 16 of the lecture slides)."
   ]
  },
  {
   "cell_type": "markdown",
   "id": "9daa4b9d",
   "metadata": {},
   "source": [
    "How is it recursive:It is recursive because it calls itself to perform the task of matrix multiplication on smaller sub-problems. Each Matrix A &B is divided into 4 sub_matrices and then these sub_matrices are used as inputs for further recursive calls.\n",
    "\n",
    "The base case of the recursion occurs when the matrix dimension n = 1.The matrix multiplication is trivial at the point, consisting of multiplying two scalar value a11 and b11 to produce c11. This would stop the further recursive calls.\n",
    "\n",
    "How does the recursion step reduce to the base case:Each recursive call processes a smaller sub_matrix of size n/2 * n/2, reducing the problem size with each division until the base case n = 1 is reached.The division continues recursively until the size of the matrices being multplied is just a single element."
   ]
  },
  {
   "cell_type": "markdown",
   "id": "9ce297ed-aaf6-4298-b7e2-de0b187bb97f",
   "metadata": {},
   "source": [
    "## 2. Implement the recursive algorithm in Python. \n",
    "Reflect on which steps of the pseudocode were straightforward to implement and which hid a lot of complexity behind their language."
   ]
  },
  {
   "cell_type": "code",
   "execution_count": 21,
   "id": "0273a2bf",
   "metadata": {},
   "outputs": [],
   "source": [
    "import numpy as np"
   ]
  },
  {
   "cell_type": "code",
   "execution_count": 22,
   "id": "8a82dabe-a796-45bb-9e02-d7972e62dfba",
   "metadata": {},
   "outputs": [],
   "source": [
    "def partition_matrix(matrix):\n",
    "    n = len(matrix)\n",
    "    mid = n // 2\n",
    "    top_left = [row[:mid] for row in matrix[:mid]]\n",
    "    top_right = [row[mid:] for row in matrix[:mid]]\n",
    "    bottom_left = [row[:mid] for row in matrix[mid:]]\n",
    "    bottom_right = [row[mid:] for row in matrix[mid:]]\n",
    "    return top_left, top_right, bottom_left, bottom_right\n",
    "\n",
    "def add_matrices(A, B):\n",
    "    return [[A[i][j] + B[i][j] for j in range(len(A[i]))] for i in range(len(A))]\n",
    "\n",
    "def combine_matrices(top_left, top_right, bottom_left, bottom_right):\n",
    "    top_half = [left + right for left, right in zip(top_left, top_right)]\n",
    "    bottom_half = [left + right for left, right in zip(bottom_left, bottom_right)]\n",
    "    return top_half + bottom_half\n",
    "\n",
    "def recursive_multiply_matrices(A, B):\n",
    "    n = len(A)\n",
    "    if n == 1:\n",
    "        return [[A[0][0] * B[0][0]]]\n",
    "    else:\n",
    "        A11, A12, A21, A22 = partition_matrix(A)\n",
    "        B11, B12, B21, B22 = partition_matrix(B)\n",
    "        M1 = add_matrices(recursive_multiply_matrices(A11, B11), recursive_multiply_matrices(A12, B21))\n",
    "        M2 = add_matrices(recursive_multiply_matrices(A11, B12), recursive_multiply_matrices(A12, B22))\n",
    "        M3 = add_matrices(recursive_multiply_matrices(A21, B11), recursive_multiply_matrices(A22, B21))\n",
    "        M4 = add_matrices(recursive_multiply_matrices(A21, B12), recursive_multiply_matrices(A22, B22))\n",
    "        return combine_matrices(M1, M2, M3, M4)\n"
   ]
  },
  {
   "cell_type": "code",
   "execution_count": 23,
   "id": "569497cb-005e-4679-9c1e-aaab021276ca",
   "metadata": {},
   "outputs": [
    {
     "name": "stdout",
     "output_type": "stream",
     "text": [
      "Results using recursive matrix multiplication:\n",
      "2 x 2 Matrix: [[19, 22], [43, 50]]\n",
      "4 x 4 Matrix: [[90, 100, 110, 120], [202, 228, 254, 280], [314, 356, 398, 440], [426, 484, 542, 600]]\n",
      "Chained recursive matrix multiplication (2 x 2 Matrix):\n",
      "[[85, 126], [193, 286]]\n"
     ]
    }
   ],
   "source": [
    "Matrix_E = np.array([[1, 2], [3, 4]])\n",
    "Matrix_F = np.array([[5, 6], [7, 8]])\n",
    "Matrix_G = np.array([[1, 2, 3, 4], [5, 6, 7, 8], [9, 10, 11, 12], [13, 14, 15, 16]])\n",
    "\n",
    "print(\"Results using recursive matrix multiplication:\")\n",
    "print('2 x 2 Matrix:', recursive_multiply_matrices(Matrix_E, Matrix_F))\n",
    "print('4 x 4 Matrix:', recursive_multiply_matrices(Matrix_G, Matrix_G))\n",
    "\n",
    "print('Chained recursive matrix multiplication (2 x 2 Matrix):')\n",
    "chained_result = recursive_multiply_matrices(recursive_multiply_matrices(Matrix_E, Matrix_F), Matrix_E)\n",
    "print(chained_result)"
   ]
  },
  {
   "cell_type": "markdown",
   "id": "03de60de-8883-403e-b6c0-8b3300c44b94",
   "metadata": {},
   "source": [
    "### Test and compare the practical speed with the non-recursive algorithm"
   ]
  },
  {
   "cell_type": "code",
   "execution_count": 29,
   "id": "7f394abd",
   "metadata": {},
   "outputs": [
    {
     "name": "stdout",
     "output_type": "stream",
     "text": [
      "Basic multiply time: 0.0703 s, Recursive multiply time: 0.3292 s\n"
     ]
    }
   ],
   "source": [
    "import numpy as np\n",
    "import time\n",
    "\n",
    "# Create a large 64x64 matrix\n",
    "Large_Matrix = np.array([[i for i in range(1, 65)] for _ in range(64)])\n",
    "\n",
    "# Measure the time taken by the basic matrix multiplication\n",
    "start_time = time.time()\n",
    "result_basic = multiply_matrices(Large_Matrix, Large_Matrix)\n",
    "basic_mul_time = time.time() - start_time\n",
    "\n",
    "# Measure the time taken by the recursive matrix multiplication\n",
    "start_time = time.time()\n",
    "result_recursive = recursive_multiply_matrices(Large_Matrix.tolist(), Large_Matrix.tolist())\n",
    "recursive_mul_time = time.time() - start_time\n",
    "\n",
    "print(f\"Basic multiply time: {basic_mul_time:.4f} s, Recursive multiply time: {recursive_mul_time:.4f} s\")"
   ]
  },
  {
   "cell_type": "markdown",
   "id": "2450fd4f-c6f4-45b0-8569-9903f6686970",
   "metadata": {},
   "source": [
    "## 3. Do a complexity analysis for the SMMRec algorithm. \n",
    "\n"
   ]
  },
  {
   "cell_type": "markdown",
   "id": "8c842fad",
   "metadata": {},
   "source": [
    "Divide step: Partition each matrix of size n × n into four submatrices, each of size is (n/2)* (n/2).\n",
    "\n",
    "Conquer step: Recursively multiply these smaller matrices until the base case is reached 1×1 matrices, multiplication is very straightforward at this point.\n",
    "\n",
    "Combine: The results of these recursive multiplications are summed where necessary and then combined to form the resulting matrix C."
   ]
  },
  {
   "cell_type": "markdown",
   "id": "d767939f",
   "metadata": {},
   "source": [
    "For the recursive matrix multiplication, each decomposition creates four subproblems, each half the size of the primitive problem. For each pair of submatrices, we perform 8 multiplications. The recursive property produces a time complexity recursive relation represented as: T(n)=8T(2/n)+Θ(n^2)\n"
   ]
  },
  {
   "cell_type": "markdown",
   "id": "896ae524-d2f8-4584-bd90-4743be871b28",
   "metadata": {},
   "source": [
    "# Exercise Three\n",
    "\n",
    "## 1. Reflect on the difference between (complexity of) addition/subtraction and multiplication on matrices.\n",
    "\n",
    "\n",
    "### Implement and test the algorithm"
   ]
  },
  {
   "cell_type": "code",
   "execution_count": 33,
   "id": "e16d0613-f7b0-45e0-a908-87862d9eb070",
   "metadata": {},
   "outputs": [],
   "source": [
    "import numpy as np\n",
    "import time  \n",
    "\n",
    "def enhanced_matrix_split(matrix):\n",
    "    size = len(matrix)\n",
    "    mid_point = size // 2\n",
    "    quadrant1 = [row[:mid_point] for row in matrix[:mid_point]]\n",
    "    quadrant2 = [row[mid_point:] for row in matrix[:mid_point]]\n",
    "    quadrant3 = [row[:mid_point] for row in matrix[mid_point:]]\n",
    "    quadrant4 = [row[mid_point:] for row in matrix[mid_point:]]\n",
    "    return quadrant1, quadrant2, quadrant3, quadrant4\n",
    "\n",
    "def matrix_operation_add(submatrix1, submatrix2):\n",
    "    return [[submatrix1[i][j] + submatrix2[i][j] for j in range(len(submatrix1))] for i in range(len(submatrix1))]\n",
    "\n",
    "def matrix_operation_subtract(submatrix1, submatrix2):\n",
    "    return [[submatrix1[i][j] - submatrix2[i][j] for j in range(len(submatrix1))] for i in range(len(submatrix1))]\n",
    "\n",
    "def assemble_matrix(q1, q2, q3, q4):\n",
    "    upper_half = [left + right for left, right in zip(q1, q2)]\n",
    "    lower_half = [left + right for left, right in zip(q3, q4)]\n",
    "    return upper_half + lower_half\n",
    "\n",
    "def optimized_strassen_matrix_multiply(A, B):\n",
    "    n = len(A)\n",
    "    if n <= 2:  # Use the direct method for small matrices\n",
    "        return recursive_multiply_matrices(A, B)\n",
    "    else:\n",
    "        mid = n // 2\n",
    "        A11, A12, A21, A22 = enhanced_matrix_split(A)\n",
    "        B11, B12, B21, B22 = enhanced_matrix_split(B)\n",
    "        \n",
    "        S1 = matrix_operation_add(A11, A22)\n",
    "        S2 = matrix_operation_add(B11, B22)\n",
    "        S3 = matrix_operation_add(A21, A22)\n",
    "        S4 = B11\n",
    "        S5 = A11\n",
    "        S6 = matrix_operation_subtract(B12, B22)\n",
    "        S7 = A22\n",
    "        S8 = matrix_operation_subtract(B21, B11)\n",
    "        S9 = matrix_operation_add(A11, A12)\n",
    "        S10 = B22\n",
    "        P1 = optimized_strassen_matrix_multiply(S1, S2)\n",
    "        P2 = optimized_strassen_matrix_multiply(S3, S4)\n",
    "        P3 = optimized_strassen_matrix_multiply(S5, S6)\n",
    "        P4 = optimized_strassen_matrix_multiply(S7, S8)\n",
    "        P5 = optimized_strassen_matrix_multiply(S9, S10)\n",
    "        Q1 = matrix_operation_add(matrix_operation_subtract(matrix_operation_add(P1, P4), P5), P2)\n",
    "        Q2 = matrix_operation_add(P3, P5)\n",
    "        Q3 = matrix_operation_add(P2, P4)\n",
    "        Q4 = matrix_operation_subtract(matrix_operation_subtract(matrix_operation_add(P1, P3), P2), P5)\n",
    "\n",
    "        return assemble_matrix(Q1, Q2, Q3, Q4)"
   ]
  },
  {
   "cell_type": "code",
   "execution_count": 34,
   "id": "50f49ab2-e3f5-4396-8ba7-7b946139f820",
   "metadata": {},
   "outputs": [
    {
     "name": "stdout",
     "output_type": "stream",
     "text": [
      "Results using Strassen's algorithm:\n",
      "2 x 2 Matrix: [[19, 22], [43, 50]]\n",
      "4 x 4 Matrix: [[604, 688, 110, 120], [764, 880, 254, 280], [314, 356, 136, 136], [426, 484, 72, 72]]\n"
     ]
    }
   ],
   "source": [
    "Matrix_H = np.array([[1, 2], [3, 4]])\n",
    "Matrix_I = np.array([[5, 6], [7, 8]])\n",
    "Matrix_J = np.array([[1, 2, 3, 4], [5, 6, 7, 8], [9, 10, 11, 12], [13, 14, 15, 16]])\n",
    "\n",
    "print(\"Results using Strassen's algorithm:\")\n",
    "print('2 x 2 Matrix:', optimized_strassen_matrix_multiply(Matrix_H, Matrix_I))\n",
    "print('4 x 4 Matrix:', optimized_strassen_matrix_multiply(Matrix_J, Matrix_J))"
   ]
  },
  {
   "cell_type": "markdown",
   "id": "381eaa85-361d-46a7-864b-b1d49c8ad9c4",
   "metadata": {},
   "source": [
    "### Compare the practical speed with the recursive algorithm"
   ]
  },
  {
   "cell_type": "code",
   "execution_count": 35,
   "id": "8fed3683-65cf-40e1-9bbc-5d5b5e4d31aa",
   "metadata": {},
   "outputs": [
    {
     "name": "stdout",
     "output_type": "stream",
     "text": [
      "Basic multiplication: 0.5559 s, Recursive multiplication: 2.6781 s\n"
     ]
    }
   ],
   "source": [
    "# Create a 128x128 matrix\n",
    "Performance_Matrix = np.array([[i for i in range(1, 129)] for _ in range(128)])\n",
    "\n",
    "# Start the timer for basic matrix multiplication\n",
    "start_time = time.time()\n",
    "result_from_basic = multiply_matrices(Performance_Matrix, Performance_Matrix)\n",
    "time_for_basic = time.time() - start_time  # Calculate elapsed time\n",
    "\n",
    "# Start the timer for recursive matrix multiplication\n",
    "start_time = time.time()\n",
    "result_from_recursive = recursive_multiply_matrices(Performance_Matrix.tolist(), Performance_Matrix.tolist())\n",
    "time_for_recursive = time.time() - start_time  # Calculate elapsed time\n",
    "\n",
    "print(f\"Basic multiplication: {time_for_basic:.4f} s, Recursive multiplication: {time_for_recursive:.4f} s\")\n"
   ]
  },
  {
   "cell_type": "markdown",
   "id": "e828420b-dd79-46f3-957c-021e3e3a769d",
   "metadata": {},
   "source": [
    "\n",
    "## 2.Do a complexity analysis of the Strassen algorithm.\n",
    "    - Instead of starting from scratch, you can also take your result from Exercise 2 and adapt to the optimisation; explain what changes in the complexity formula with these optimisations.\n",
    "\n"
   ]
  },
  {
   "cell_type": "markdown",
   "id": "f65e2541",
   "metadata": {},
   "source": [
    "Standard Recursive Algorithm: The recurrence relation is T(n) = 8T(n/2)+Θ(n^2). This recurrence solves to O(n^3), indicating a cubic time comlexity typical for standard matrix multiplication according to the Master Theorem.\n",
    "\n",
    "Strassen's Algorithm: In Strassen's method, the number of recursive calls is reduced to 7, instead of 8 as in the standard method. The recurrence relation for Strassen's algorithm is T(n) = 7T(n/2)+(n^2). Using the Master Theorem again, the solution to this recurrence is O(n^log7^2), which is aprroximately O(n^2.81). This demonstrates a more effcient algorithm than the standard approach, due to a lower exponent in the time complexity."
   ]
  },
  {
   "cell_type": "code",
   "execution_count": null,
   "id": "7118c7c6",
   "metadata": {},
   "outputs": [],
   "source": []
  }
 ],
 "metadata": {
  "kernelspec": {
   "display_name": "Python 3 (ipykernel)",
   "language": "python",
   "name": "python3"
  },
  "language_info": {
   "codemirror_mode": {
    "name": "ipython",
    "version": 3
   },
   "file_extension": ".py",
   "mimetype": "text/x-python",
   "name": "python",
   "nbconvert_exporter": "python",
   "pygments_lexer": "ipython3",
   "version": "3.11.5"
  }
 },
 "nbformat": 4,
 "nbformat_minor": 5
}
